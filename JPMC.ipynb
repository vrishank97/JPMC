{
 "cells": [
  {
   "cell_type": "code",
   "execution_count": 1,
   "metadata": {
    "collapsed": true
   },
   "outputs": [],
   "source": [
    "import pandas as pd\n",
    "import numpy as np\n",
    "import matplotlib.pyplot as plt\n",
    "%matplotlib inline"
   ]
  },
  {
   "cell_type": "code",
   "execution_count": 2,
   "metadata": {
    "collapsed": true
   },
   "outputs": [],
   "source": [
    "train = pd.read_csv(\"housing_train.csv\")\n",
    "test = pd.read_csv(\"housing_test.csv\")"
   ]
  },
  {
   "cell_type": "code",
   "execution_count": 3,
   "metadata": {},
   "outputs": [],
   "source": [
    "train = train[train[\"Price\"]<np.mean(train[\"Price\"])+3*np.std(train[\"Price\"])]"
   ]
  },
  {
   "cell_type": "code",
   "execution_count": 4,
   "metadata": {},
   "outputs": [
    {
     "data": {
      "text/plain": [
       "(1216253, 15)"
      ]
     },
     "execution_count": 4,
     "metadata": {},
     "output_type": "execute_result"
    }
   ],
   "source": [
    "train.shape"
   ]
  },
  {
   "cell_type": "code",
   "execution_count": 5,
   "metadata": {
    "collapsed": true
   },
   "outputs": [],
   "source": [
    "from sklearn.preprocessing import LabelEncoder\n",
    "\n",
    "categorical=[]\n",
    "for c in train.columns:\n",
    "    if train[c].dtype == 'object':\n",
    "        categorical.append(c)\n",
    "\n",
    "for c in train.columns:\n",
    "    if train[c].dtype == 'object':\n",
    "        lbl = LabelEncoder() \n",
    "        lbl.fit(list(train[c].values) + list(test[c].values)) \n",
    "        train[c] = lbl.transform(list(train[c].values))\n",
    "        test[c] = lbl.transform(list(test[c].values))"
   ]
  },
  {
   "cell_type": "code",
   "execution_count": 6,
   "metadata": {},
   "outputs": [
    {
     "data": {
      "text/html": [
       "<div>\n",
       "<style scoped>\n",
       "    .dataframe tbody tr th:only-of-type {\n",
       "        vertical-align: middle;\n",
       "    }\n",
       "\n",
       "    .dataframe tbody tr th {\n",
       "        vertical-align: top;\n",
       "    }\n",
       "\n",
       "    .dataframe thead th {\n",
       "        text-align: right;\n",
       "    }\n",
       "</style>\n",
       "<table border=\"1\" class=\"dataframe\">\n",
       "  <thead>\n",
       "    <tr style=\"text-align: right;\">\n",
       "      <th></th>\n",
       "      <th>TID</th>\n",
       "      <th>Date</th>\n",
       "      <th>Property Type</th>\n",
       "      <th>OldvNew</th>\n",
       "      <th>Duration</th>\n",
       "      <th>AddressLine1</th>\n",
       "      <th>AddressLine2</th>\n",
       "      <th>Street</th>\n",
       "      <th>Locality</th>\n",
       "      <th>Town</th>\n",
       "      <th>Taluka</th>\n",
       "      <th>District</th>\n",
       "      <th>Postcode</th>\n",
       "      <th>Price</th>\n",
       "      <th>Price Category</th>\n",
       "    </tr>\n",
       "  </thead>\n",
       "  <tbody>\n",
       "    <tr>\n",
       "      <th>count</th>\n",
       "      <td>1.216253e+06</td>\n",
       "      <td>1.216253e+06</td>\n",
       "      <td>1.216253e+06</td>\n",
       "      <td>1.216253e+06</td>\n",
       "      <td>1.216253e+06</td>\n",
       "      <td>1.216253e+06</td>\n",
       "      <td>1.216253e+06</td>\n",
       "      <td>1.216253e+06</td>\n",
       "      <td>1.216253e+06</td>\n",
       "      <td>1.216253e+06</td>\n",
       "      <td>1.216253e+06</td>\n",
       "      <td>1.216253e+06</td>\n",
       "      <td>1.216253e+06</td>\n",
       "      <td>1.216253e+06</td>\n",
       "      <td>1.216253e+06</td>\n",
       "    </tr>\n",
       "    <tr>\n",
       "      <th>mean</th>\n",
       "      <td>6.140699e+05</td>\n",
       "      <td>2.278497e+02</td>\n",
       "      <td>2.177213e+00</td>\n",
       "      <td>1.235754e-01</td>\n",
       "      <td>2.372319e-01</td>\n",
       "      <td>1.141319e+04</td>\n",
       "      <td>1.187091e+04</td>\n",
       "      <td>9.997531e+04</td>\n",
       "      <td>1.404055e+04</td>\n",
       "      <td>5.473275e+02</td>\n",
       "      <td>1.766544e+02</td>\n",
       "      <td>5.476763e+01</td>\n",
       "      <td>2.980116e+05</td>\n",
       "      <td>3.029596e+02</td>\n",
       "      <td>1.461637e-01</td>\n",
       "    </tr>\n",
       "    <tr>\n",
       "      <th>std</th>\n",
       "      <td>3.538115e+05</td>\n",
       "      <td>1.253110e+02</td>\n",
       "      <td>1.553500e+00</td>\n",
       "      <td>3.290967e-01</td>\n",
       "      <td>4.253858e-01</td>\n",
       "      <td>2.133970e+04</td>\n",
       "      <td>2.425962e+03</td>\n",
       "      <td>5.652705e+04</td>\n",
       "      <td>5.065763e+03</td>\n",
       "      <td>3.357712e+02</td>\n",
       "      <td>1.029415e+02</td>\n",
       "      <td>3.419676e+01</td>\n",
       "      <td>1.733638e+05</td>\n",
       "      <td>3.246189e+02</td>\n",
       "      <td>3.532704e-01</td>\n",
       "    </tr>\n",
       "    <tr>\n",
       "      <th>min</th>\n",
       "      <td>1.000000e+03</td>\n",
       "      <td>0.000000e+00</td>\n",
       "      <td>0.000000e+00</td>\n",
       "      <td>0.000000e+00</td>\n",
       "      <td>0.000000e+00</td>\n",
       "      <td>0.000000e+00</td>\n",
       "      <td>0.000000e+00</td>\n",
       "      <td>0.000000e+00</td>\n",
       "      <td>0.000000e+00</td>\n",
       "      <td>0.000000e+00</td>\n",
       "      <td>0.000000e+00</td>\n",
       "      <td>0.000000e+00</td>\n",
       "      <td>0.000000e+00</td>\n",
       "      <td>1.001100e+01</td>\n",
       "      <td>0.000000e+00</td>\n",
       "    </tr>\n",
       "    <tr>\n",
       "      <th>25%</th>\n",
       "      <td>3.077530e+05</td>\n",
       "      <td>1.230000e+02</td>\n",
       "      <td>1.000000e+00</td>\n",
       "      <td>0.000000e+00</td>\n",
       "      <td>0.000000e+00</td>\n",
       "      <td>1.776000e+03</td>\n",
       "      <td>1.265600e+04</td>\n",
       "      <td>5.114800e+04</td>\n",
       "      <td>1.154400e+04</td>\n",
       "      <td>2.420000e+02</td>\n",
       "      <td>8.000000e+01</td>\n",
       "      <td>3.000000e+01</td>\n",
       "      <td>1.471180e+05</td>\n",
       "      <td>1.450000e+02</td>\n",
       "      <td>0.000000e+00</td>\n",
       "    </tr>\n",
       "    <tr>\n",
       "      <th>50%</th>\n",
       "      <td>6.140810e+05</td>\n",
       "      <td>2.280000e+02</td>\n",
       "      <td>3.000000e+00</td>\n",
       "      <td>0.000000e+00</td>\n",
       "      <td>0.000000e+00</td>\n",
       "      <td>3.556000e+03</td>\n",
       "      <td>1.265600e+04</td>\n",
       "      <td>1.010040e+05</td>\n",
       "      <td>1.719200e+04</td>\n",
       "      <td>5.020000e+02</td>\n",
       "      <td>1.800000e+02</td>\n",
       "      <td>4.900000e+01</td>\n",
       "      <td>2.969360e+05</td>\n",
       "      <td>2.300000e+02</td>\n",
       "      <td>0.000000e+00</td>\n",
       "    </tr>\n",
       "    <tr>\n",
       "      <th>75%</th>\n",
       "      <td>9.205610e+05</td>\n",
       "      <td>3.320000e+02</td>\n",
       "      <td>4.000000e+00</td>\n",
       "      <td>0.000000e+00</td>\n",
       "      <td>0.000000e+00</td>\n",
       "      <td>5.273000e+03</td>\n",
       "      <td>1.265600e+04</td>\n",
       "      <td>1.488170e+05</td>\n",
       "      <td>1.719200e+04</td>\n",
       "      <td>8.350000e+02</td>\n",
       "      <td>2.660000e+02</td>\n",
       "      <td>9.000000e+01</td>\n",
       "      <td>4.481320e+05</td>\n",
       "      <td>3.540000e+02</td>\n",
       "      <td>0.000000e+00</td>\n",
       "    </tr>\n",
       "    <tr>\n",
       "      <th>max</th>\n",
       "      <td>1.226672e+06</td>\n",
       "      <td>4.540000e+02</td>\n",
       "      <td>4.000000e+00</td>\n",
       "      <td>1.000000e+00</td>\n",
       "      <td>1.000000e+00</td>\n",
       "      <td>9.531700e+04</td>\n",
       "      <td>1.265600e+04</td>\n",
       "      <td>1.924860e+05</td>\n",
       "      <td>1.719200e+04</td>\n",
       "      <td>1.145000e+03</td>\n",
       "      <td>3.520000e+02</td>\n",
       "      <td>1.120000e+02</td>\n",
       "      <td>5.967070e+05</td>\n",
       "      <td>5.830873e+03</td>\n",
       "      <td>1.000000e+00</td>\n",
       "    </tr>\n",
       "  </tbody>\n",
       "</table>\n",
       "</div>"
      ],
      "text/plain": [
       "                TID          Date  Property Type       OldvNew      Duration  \\\n",
       "count  1.216253e+06  1.216253e+06   1.216253e+06  1.216253e+06  1.216253e+06   \n",
       "mean   6.140699e+05  2.278497e+02   2.177213e+00  1.235754e-01  2.372319e-01   \n",
       "std    3.538115e+05  1.253110e+02   1.553500e+00  3.290967e-01  4.253858e-01   \n",
       "min    1.000000e+03  0.000000e+00   0.000000e+00  0.000000e+00  0.000000e+00   \n",
       "25%    3.077530e+05  1.230000e+02   1.000000e+00  0.000000e+00  0.000000e+00   \n",
       "50%    6.140810e+05  2.280000e+02   3.000000e+00  0.000000e+00  0.000000e+00   \n",
       "75%    9.205610e+05  3.320000e+02   4.000000e+00  0.000000e+00  0.000000e+00   \n",
       "max    1.226672e+06  4.540000e+02   4.000000e+00  1.000000e+00  1.000000e+00   \n",
       "\n",
       "       AddressLine1  AddressLine2        Street      Locality          Town  \\\n",
       "count  1.216253e+06  1.216253e+06  1.216253e+06  1.216253e+06  1.216253e+06   \n",
       "mean   1.141319e+04  1.187091e+04  9.997531e+04  1.404055e+04  5.473275e+02   \n",
       "std    2.133970e+04  2.425962e+03  5.652705e+04  5.065763e+03  3.357712e+02   \n",
       "min    0.000000e+00  0.000000e+00  0.000000e+00  0.000000e+00  0.000000e+00   \n",
       "25%    1.776000e+03  1.265600e+04  5.114800e+04  1.154400e+04  2.420000e+02   \n",
       "50%    3.556000e+03  1.265600e+04  1.010040e+05  1.719200e+04  5.020000e+02   \n",
       "75%    5.273000e+03  1.265600e+04  1.488170e+05  1.719200e+04  8.350000e+02   \n",
       "max    9.531700e+04  1.265600e+04  1.924860e+05  1.719200e+04  1.145000e+03   \n",
       "\n",
       "             Taluka      District      Postcode         Price  Price Category  \n",
       "count  1.216253e+06  1.216253e+06  1.216253e+06  1.216253e+06    1.216253e+06  \n",
       "mean   1.766544e+02  5.476763e+01  2.980116e+05  3.029596e+02    1.461637e-01  \n",
       "std    1.029415e+02  3.419676e+01  1.733638e+05  3.246189e+02    3.532704e-01  \n",
       "min    0.000000e+00  0.000000e+00  0.000000e+00  1.001100e+01    0.000000e+00  \n",
       "25%    8.000000e+01  3.000000e+01  1.471180e+05  1.450000e+02    0.000000e+00  \n",
       "50%    1.800000e+02  4.900000e+01  2.969360e+05  2.300000e+02    0.000000e+00  \n",
       "75%    2.660000e+02  9.000000e+01  4.481320e+05  3.540000e+02    0.000000e+00  \n",
       "max    3.520000e+02  1.120000e+02  5.967070e+05  5.830873e+03    1.000000e+00  "
      ]
     },
     "execution_count": 6,
     "metadata": {},
     "output_type": "execute_result"
    }
   ],
   "source": [
    "train.describe()"
   ]
  },
  {
   "cell_type": "code",
   "execution_count": 7,
   "metadata": {},
   "outputs": [
    {
     "name": "stdout",
     "output_type": "stream",
     "text": [
      "Shape train: (1216253, 15)\n",
      "Shape test: (2066, 14)\n"
     ]
    }
   ],
   "source": [
    "print('Shape train: {}\\nShape test: {}'.format(train.shape, test.shape))"
   ]
  },
  {
   "cell_type": "code",
   "execution_count": 8,
   "metadata": {
    "collapsed": true
   },
   "outputs": [],
   "source": [
    "train = train.drop([\"TID\"], axis=1)\n",
    "test = test.drop([\"TID\"], axis=1)"
   ]
  },
  {
   "cell_type": "code",
   "execution_count": 9,
   "metadata": {
    "collapsed": true
   },
   "outputs": [],
   "source": [
    "y = train[\"Price\"]"
   ]
  },
  {
   "cell_type": "code",
   "execution_count": 10,
   "metadata": {},
   "outputs": [
    {
     "name": "stderr",
     "output_type": "stream",
     "text": [
      "/Users/vrishank/anaconda3/lib/python3.6/site-packages/sklearn/model_selection/_split.py:1978: FutureWarning: The default value of cv will change from 3 to 5 in version 0.22. Specify it explicitly to silence this warning.\n",
      "  warnings.warn(CV_WARNING, FutureWarning)\n"
     ]
    },
    {
     "name": "stdout",
     "output_type": "stream",
     "text": [
      "[0.32653577 0.48931917 0.33267992]\n"
     ]
    }
   ],
   "source": [
    "import numpy as np\n",
    "from sklearn.ensemble import RandomForestRegressor\n",
    "from sklearn.model_selection import cross_val_score\n",
    "\n",
    "model = RandomForestRegressor(n_estimators=50, n_jobs=-1)\n",
    "print(cross_val_score(model, train.drop([\"Price\"], axis=1), y))"
   ]
  },
  {
   "cell_type": "code",
   "execution_count": null,
   "metadata": {
    "collapsed": true
   },
   "outputs": [],
   "source": [
    "import numpy as np\n",
    "from sklearn.ensemble import RandomForestRegressor\n",
    "from sklearn.model_selection import cross_val_score\n",
    "\n",
    "model = RandomForestRegressor(n_estimators=50, n_jobs=-1)\n",
    "print(cross_val_score(model, train.drop([\"Price\"], axis=1)[:50000], y[:50000]))"
   ]
  },
  {
   "cell_type": "code",
   "execution_count": 57,
   "metadata": {},
   "outputs": [
    {
     "name": "stderr",
     "output_type": "stream",
     "text": [
      "/Users/vrishank/anaconda3/lib/python3.6/site-packages/sklearn/model_selection/_split.py:1978: FutureWarning: The default value of cv will change from 3 to 5 in version 0.22. Specify it explicitly to silence this warning.\n",
      "  warnings.warn(CV_WARNING, FutureWarning)\n"
     ]
    },
    {
     "name": "stdout",
     "output_type": "stream",
     "text": [
      "[0.29072078 0.30649728 0.32731902]\n"
     ]
    }
   ],
   "source": [
    "import numpy as np\n",
    "from sklearn.ensemble import GradientBoostingRegressor\n",
    "from sklearn.model_selection import cross_val_score\n",
    "\n",
    "model = GradientBoostingRegressor()\n",
    "print(cross_val_score(model, train.drop([\"Price\"], axis=1)[:50000], y[:50000]))"
   ]
  },
  {
   "cell_type": "code",
   "execution_count": 61,
   "metadata": {},
   "outputs": [
    {
     "name": "stderr",
     "output_type": "stream",
     "text": [
      "/Users/vrishank/anaconda3/lib/python3.6/site-packages/sklearn/model_selection/_split.py:1978: FutureWarning: The default value of cv will change from 3 to 5 in version 0.22. Specify it explicitly to silence this warning.\n",
      "  warnings.warn(CV_WARNING, FutureWarning)\n"
     ]
    },
    {
     "name": "stdout",
     "output_type": "stream",
     "text": [
      "[0.32342498 0.33014921 0.34016163]\n"
     ]
    }
   ],
   "source": [
    "import numpy as np\n",
    "from xgboost import XGBRegressor\n",
    "from sklearn.model_selection import cross_val_score\n",
    "\n",
    "model = XGBRegressor()\n",
    "print(cross_val_score(model, train.drop([\"Price\"], axis=1)[:100000], y[:100000]))"
   ]
  },
  {
   "cell_type": "code",
   "execution_count": null,
   "metadata": {
    "collapsed": true
   },
   "outputs": [],
   "source": []
  }
 ],
 "metadata": {
  "kernelspec": {
   "display_name": "Python 3",
   "language": "python",
   "name": "python3"
  },
  "language_info": {
   "codemirror_mode": {
    "name": "ipython",
    "version": 3
   },
   "file_extension": ".py",
   "mimetype": "text/x-python",
   "name": "python",
   "nbconvert_exporter": "python",
   "pygments_lexer": "ipython3",
   "version": "3.6.3"
  }
 },
 "nbformat": 4,
 "nbformat_minor": 2
}
